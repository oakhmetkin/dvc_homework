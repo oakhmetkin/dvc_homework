{
 "cells": [
  {
   "cell_type": "code",
   "execution_count": 5,
   "id": "d28f1827",
   "metadata": {},
   "outputs": [],
   "source": [
    "! pip install dvc -q"
   ]
  },
  {
   "cell_type": "code",
   "execution_count": 6,
   "id": "a4d6bd04",
   "metadata": {},
   "outputs": [
    {
     "name": "stdout",
     "output_type": "stream",
     "text": [
      "Initialized DVC repository.\n",
      "\n",
      "You can now commit the changes to git.\n",
      "\n",
      "\u001b[31m+---------------------------------------------------------------------+\n",
      "\u001b[0m\u001b[31m|\u001b[0m                                                                     \u001b[31m|\u001b[0m\n",
      "\u001b[31m|\u001b[0m        DVC has enabled anonymous aggregate usage analytics.         \u001b[31m|\u001b[0m\n",
      "\u001b[31m|\u001b[0m     Read the analytics documentation (and how to opt-out) here:     \u001b[31m|\u001b[0m\n",
      "\u001b[31m|\u001b[0m             <\u001b[36mhttps://dvc.org/doc/user-guide/analytics\u001b[39m>              \u001b[31m|\u001b[0m\n",
      "\u001b[31m|\u001b[0m                                                                     \u001b[31m|\u001b[0m\n",
      "\u001b[31m+---------------------------------------------------------------------+\n",
      "\u001b[0m\n",
      "\u001b[33mWhat's next?\u001b[39m\n",
      "\u001b[33m------------\u001b[39m\n",
      "- Check out the documentation: <\u001b[36mhttps://dvc.org/doc\u001b[39m>\n",
      "- Get help and share ideas: <\u001b[36mhttps://dvc.org/chat\u001b[39m>\n",
      "- Star us on GitHub: <\u001b[36mhttps://github.com/iterative/dvc\u001b[39m>\n",
      "\u001b[0m"
     ]
    }
   ],
   "source": [
    "! dvc init"
   ]
  },
  {
   "cell_type": "code",
   "execution_count": 7,
   "id": "8da2fb3d",
   "metadata": {},
   "outputs": [
    {
     "name": "stdout",
     "output_type": "stream",
     "text": [
      "Collecting                                            |0.00 [00:00,    ?entry/s]\n",
      "Fetching\n",
      "Building workspace index                              |0.00 [00:00,    ?entry/s]\n",
      "Comparing indexes                                    |1.00 [00:00, 7.19kentry/s]\n",
      "Applying changes                                      |0.00 [00:00,     ?file/s]\n",
      "\u001b[33mNo remote provided and no default remote set.\u001b[0m\n",
      "Everything is up to date.\n",
      "\u001b[0m"
     ]
    }
   ],
   "source": [
    "! dvc pull"
   ]
  },
  {
   "cell_type": "code",
   "execution_count": 8,
   "id": "ecea3bf6",
   "metadata": {},
   "outputs": [
    {
     "name": "stdout",
     "output_type": "stream",
     "text": [
      "Added stage 'train' in 'dvc.yaml'                                     core\u001b[39m>\n",
      "\n",
      "To track the changes with git, run:\n",
      "\n",
      "\tgit add .gitignore dvc.yaml\n",
      "\n",
      "To enable auto staging, run:\n",
      "\n",
      "\tdvc config core.autostage true\n",
      "\u001b[0m"
     ]
    }
   ],
   "source": [
    "! dvc stage add --name train --outs dvclive python train.py"
   ]
  },
  {
   "cell_type": "code",
   "execution_count": 9,
   "id": "2aa0dee3",
   "metadata": {},
   "outputs": [
    {
     "name": "stdout",
     "output_type": "stream",
     "text": [
      "Reproducing experiment 'grapy-bolo'                                   core\u001b[39m>\n",
      "Building workspace index                              |0.00 [00:00,    ?entry/s]\n",
      "Comparing indexes                                    |2.00 [00:00, 2.82kentry/s]\n",
      "\u001b[33mWARNING\u001b[39m: No file hash info found for '/Users/ktann/Desktop/dvc_homework/dvclive'. It won't be created.\n",
      "Applying changes                                      |0.00 [00:00,     ?file/s]\n",
      "Running stage 'train':                                                core\u001b[39m>\n",
      "> python train.py\n",
      "  0% Committing dvclive to cache|              |7/? [00:00<00:00, 2694.58file/s]\n",
      "!\u001b[A\n",
      "  0%|          |memory://.AefzuytKSRFHJazdtpiPC7.tm0.00/? [00:00<?,        ?B/s]\u001b[A\n",
      "  0%|          |memory://.AefzuytKSRFHJazdtpiPC7.0.00/617 [00:00<?,        ?B/s]\u001b[A\n",
      "Generating lock file 'dvc.lock'                                                 \u001b[A\n",
      "Updating lock file 'dvc.lock'\n",
      "                                                                      core\u001b[39m>\n",
      "Ran experiment(s): grapy-bolo\n",
      "Experiment results have been applied to your workspace.\n",
      "\u001b[0m"
     ]
    }
   ],
   "source": [
    "! dvc exp run"
   ]
  },
  {
   "cell_type": "code",
   "execution_count": null,
   "id": "753bd312",
   "metadata": {},
   "outputs": [],
   "source": []
  }
 ],
 "metadata": {
  "kernelspec": {
   "display_name": "Python 3 (ipykernel)",
   "language": "python",
   "name": "python3"
  },
  "language_info": {
   "codemirror_mode": {
    "name": "ipython",
    "version": 3
   },
   "file_extension": ".py",
   "mimetype": "text/x-python",
   "name": "python",
   "nbconvert_exporter": "python",
   "pygments_lexer": "ipython3",
   "version": "3.11.5"
  }
 },
 "nbformat": 4,
 "nbformat_minor": 5
}
